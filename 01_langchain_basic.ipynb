{
 "cells": [
  {
   "cell_type": "markdown",
   "metadata": {},
   "source": [
    "# Installations"
   ]
  },
  {
   "cell_type": "code",
   "execution_count": 2,
   "metadata": {},
   "outputs": [
    {
     "name": "stdout",
     "output_type": "stream",
     "text": [
      "Note: you may need to restart the kernel to use updated packages.\n"
     ]
    }
   ],
   "source": [
    "pip install -r requirements.txt -q"
   ]
  },
  {
   "cell_type": "code",
   "execution_count": 3,
   "metadata": {},
   "outputs": [
    {
     "name": "stdout",
     "output_type": "stream",
     "text": [
      "Name: langchain\n",
      "Version: 0.0.347\n",
      "Summary: Building applications with LLMs through composability\n",
      "Home-page: https://github.com/langchain-ai/langchain\n",
      "Author: \n",
      "Author-email: \n",
      "License: MIT\n",
      "Location: c:\\users\\clock\\appdata\\roaming\\python\\python39\\site-packages\n",
      "Requires: aiohttp, anyio, async-timeout, dataclasses-json, jsonpatch, langchain-core, langsmith, numpy, pydantic, PyYAML, requests, SQLAlchemy, tenacity\n",
      "Required-by: \n",
      "Note: you may need to restart the kernel to use updated packages.\n"
     ]
    }
   ],
   "source": [
    "pip show langchain"
   ]
  },
  {
   "cell_type": "code",
   "execution_count": 4,
   "metadata": {},
   "outputs": [],
   "source": [
    "!pip install --upgrade langchain -q "
   ]
  },
  {
   "cell_type": "code",
   "execution_count": 3,
   "metadata": {},
   "outputs": [
    {
     "data": {
      "text/plain": [
       "True"
      ]
     },
     "execution_count": 3,
     "metadata": {},
     "output_type": "execute_result"
    }
   ],
   "source": [
    "import os\n",
    "from dotenv import load_dotenv, find_dotenv\n",
    " \n",
    "# loading the API Keys (OpenAI, Pinecone) from .env\n",
    "load_dotenv(find_dotenv(), override=True)\n",
    "\n",
    "# hide the below command since it is exposing the OPENAI_API_KEY \n",
    "# os.environ.get('OPENAI_API_KEY')"
   ]
  },
  {
   "cell_type": "markdown",
   "metadata": {},
   "source": [
    "# Simple LLM interface"
   ]
  },
  {
   "cell_type": "code",
   "execution_count": 11,
   "metadata": {},
   "outputs": [
    {
     "name": "stdout",
     "output_type": "stream",
     "text": [
      "\u001b[1mOpenAI\u001b[0m\n",
      "Params: {'model_name': 'text-davinci-003', 'temperature': 0.7, 'top_p': 1, 'frequency_penalty': 0, 'presence_penalty': 0, 'n': 1, 'logit_bias': {}, 'max_tokens': 512}\n"
     ]
    }
   ],
   "source": [
    "from langchain.llms import OpenAI\n",
    "\n",
    "llm = OpenAI(model_name='text-davinci-003', temperature=0.7, max_tokens=512)\n",
    "\n",
    "print(llm)"
   ]
  },
  {
   "cell_type": "code",
   "execution_count": 12,
   "metadata": {},
   "outputs": [
    {
     "name": "stdout",
     "output_type": "stream",
     "text": [
      "\n",
      "\n",
      "Quantum mechanics is the branch of physics that describes the behavior of matter and energy at the atomic and subatomic scales.\n"
     ]
    }
   ],
   "source": [
    "output=llm('explain quantum mechanics in one sentence')\n",
    "print(output)"
   ]
  },
  {
   "cell_type": "code",
   "execution_count": 13,
   "metadata": {},
   "outputs": [
    {
     "name": "stdout",
     "output_type": "stream",
     "text": [
      "7\n"
     ]
    }
   ],
   "source": [
    "print(llm.get_num_tokens('explain quantum mechanics in one sentence'))"
   ]
  },
  {
   "cell_type": "code",
   "execution_count": 14,
   "metadata": {},
   "outputs": [],
   "source": [
    "output = llm.generate(['... is the capital of France.', 'What is the formula for the area of a circle?'])"
   ]
  },
  {
   "cell_type": "code",
   "execution_count": 15,
   "metadata": {},
   "outputs": [
    {
     "name": "stdout",
     "output_type": "stream",
     "text": [
      "generations=[[Generation(text='\\n\\nParis.', generation_info={'finish_reason': 'stop', 'logprobs': None})], [Generation(text='\\n\\nThe formula for the area of a circle is A = πr², where A is the area, π is the constant pi, and r is the radius of the circle.', generation_info={'finish_reason': 'stop', 'logprobs': None})]] llm_output={'token_usage': {'total_tokens': 62, 'prompt_tokens': 18, 'completion_tokens': 44}, 'model_name': 'text-davinci-003'} run=[RunInfo(run_id=UUID('d0bdb09c-e98b-42a9-98a2-b7f4ee4dd4d6')), RunInfo(run_id=UUID('eab8459c-8240-4b25-a57d-a30bfd512a25'))]\n"
     ]
    }
   ],
   "source": [
    "print(output)"
   ]
  },
  {
   "cell_type": "code",
   "execution_count": 16,
   "metadata": {},
   "outputs": [
    {
     "name": "stdout",
     "output_type": "stream",
     "text": [
      "\n",
      "\n",
      "Paris.\n"
     ]
    }
   ],
   "source": [
    "print(output.generations[0][0].text)"
   ]
  },
  {
   "cell_type": "code",
   "execution_count": 17,
   "metadata": {},
   "outputs": [
    {
     "name": "stdout",
     "output_type": "stream",
     "text": [
      "\n",
      "\n",
      "The formula for the area of a circle is A = πr², where A is the area, π is the constant pi, and r is the radius of the circle.\n"
     ]
    }
   ],
   "source": [
    "print(output.generations[1][0].text)"
   ]
  },
  {
   "cell_type": "code",
   "execution_count": 18,
   "metadata": {},
   "outputs": [
    {
     "data": {
      "text/plain": [
       "2"
      ]
     },
     "execution_count": 18,
     "metadata": {},
     "output_type": "execute_result"
    }
   ],
   "source": [
    "len(output.generations)"
   ]
  },
  {
   "cell_type": "code",
   "execution_count": 19,
   "metadata": {},
   "outputs": [],
   "source": [
    "output = llm.generate(['Write an orignal tagline for a burger restaurant'] * 3)"
   ]
  },
  {
   "cell_type": "code",
   "execution_count": 20,
   "metadata": {},
   "outputs": [
    {
     "name": "stdout",
     "output_type": "stream",
     "text": [
      "\n",
      "\n",
      "\"Bite Into Our Juicy Burgers - Satisfaction Guaranteed!\"\n",
      "\n",
      "\"Taste the Juiciness of Our Burgers: Sink Your Teeth Into a Burger at [Name of Restaurant]!\"\n",
      "\n",
      "\"Sink your teeth into deliciousness!\""
     ]
    }
   ],
   "source": [
    "for o in output.generations:\n",
    "    print(o[0].text, end='')"
   ]
  },
  {
   "cell_type": "code",
   "execution_count": 21,
   "metadata": {},
   "outputs": [],
   "source": [
    "from langchain.schema import(\n",
    "    AIMessage,\n",
    "    HumanMessage,\n",
    "    SystemMessage\n",
    ")\n",
    "from langchain.chat_models import ChatOpenAI"
   ]
  },
  {
   "cell_type": "code",
   "execution_count": 22,
   "metadata": {},
   "outputs": [],
   "source": [
    "chat = ChatOpenAI(model_name='gpt-3.5-turbo', temperature=0.5, max_tokens=1024)\n",
    "messages = [\n",
    "    SystemMessage(content='You are a physicist and respond only in German.'),\n",
    "    HumanMessage(content='explain quantum mechanics in one sentence')\n",
    "]\n",
    "output = chat(messages)\n"
   ]
  },
  {
   "cell_type": "code",
   "execution_count": 23,
   "metadata": {},
   "outputs": [
    {
     "name": "stdout",
     "output_type": "stream",
     "text": [
      "Quantenmechanik beschreibt das Verhalten von Teilchen auf subatomarer Ebene durch probabilistische Wellenfunktionen.\n"
     ]
    }
   ],
   "source": [
    "print(output.content)"
   ]
  },
  {
   "cell_type": "code",
   "execution_count": 24,
   "metadata": {},
   "outputs": [],
   "source": [
    "from langchain.schema import(\n",
    "    AIMessage,\n",
    "    HumanMessage,\n",
    "    SystemMessage\n",
    ")\n",
    "from langchain.chat_models import ChatOpenAI"
   ]
  },
  {
   "cell_type": "code",
   "execution_count": 25,
   "metadata": {},
   "outputs": [],
   "source": [
    "chat = ChatOpenAI(model_name='gpt-3.5-turbo', temperature=0.5, max_tokens=1024)\n",
    "messages = [\n",
    "    SystemMessage(content='You are a physicist and respond only in Malay.'),\n",
    "    HumanMessage(content='explain quantum mechanics in one sentence')\n",
    "]\n",
    "output = chat(messages)"
   ]
  },
  {
   "cell_type": "code",
   "execution_count": 26,
   "metadata": {},
   "outputs": [
    {
     "name": "stdout",
     "output_type": "stream",
     "text": [
      "Mekanik kuantum adalah teori yang menjelaskan sifat dan tingkah laku partikel-partikel subatomik dalam alam semesta kita.\n"
     ]
    }
   ],
   "source": [
    "print(output.content)"
   ]
  },
  {
   "cell_type": "markdown",
   "metadata": {},
   "source": [
    "## Prompt Templates"
   ]
  },
  {
   "cell_type": "code",
   "execution_count": 28,
   "metadata": {},
   "outputs": [],
   "source": [
    "from langchain import PromptTemplate"
   ]
  },
  {
   "cell_type": "code",
   "execution_count": 30,
   "metadata": {},
   "outputs": [
    {
     "name": "stdout",
     "output_type": "stream",
     "text": [
      "input_variables=['language', 'virus'] template='You are an experienced virologist.\\n    Write a few sentence about the {virus} in {language}'\n"
     ]
    }
   ],
   "source": [
    "template='''You are an experienced virologist.\n",
    "    Write a few sentence about the {virus} in {language}'''\n",
    "\n",
    "prompt = PromptTemplate(\n",
    "    input_variables=['virus', 'language'],\n",
    "    template=template\n",
    ")\n",
    "print(prompt)"
   ]
  },
  {
   "cell_type": "code",
   "execution_count": 31,
   "metadata": {},
   "outputs": [
    {
     "name": "stdout",
     "output_type": "stream",
     "text": [
      "\n",
      "\n",
      "Le VIH est un virus qui attaque le système immunitaire humain et peut entraîner le sida. Il peut se transmettre par le sang, les sécrétions vaginales et les spermes, et parfois par le lait maternel. Il est très important de pratiquer des relations sexuelles sûres et de se faire tester pour le VIH pour éviter sa propagation.\n"
     ]
    }
   ],
   "source": [
    "from langchain.llms import OpenAI\n",
    "llm = OpenAI(model_name='text-davinci-003', temperature=0.7)\n",
    "output = llm(prompt.format(virus='HIV', language='French'))\n",
    "print(output)"
   ]
  },
  {
   "cell_type": "code",
   "execution_count": 32,
   "metadata": {},
   "outputs": [
    {
     "name": "stdout",
     "output_type": "stream",
     "text": [
      "\n",
      "\n",
      "新冠肺炎是一种新型冠状病毒的疾病，可以通过接触感染，它可以造成肺炎、呼吸道疾病以及其他严重症状。为了阻止这种病毒的传播，世界各国都采取了严格的防控措施，包括居家隔离、社交距离要求以及其他防范措施。\n"
     ]
    }
   ],
   "source": [
    "output = llm(prompt.format(virus='Covid', language='Chinese'))\n",
    "print(output)"
   ]
  },
  {
   "cell_type": "code",
   "execution_count": 33,
   "metadata": {},
   "outputs": [
    {
     "name": "stdout",
     "output_type": "stream",
     "text": [
      "input_variables=['language', 'sickness'] template='You are an experienced medical doctor.\\n    Write a few sentence about the {sickness} in {language}'\n"
     ]
    }
   ],
   "source": [
    "template='''You are an experienced medical doctor.\n",
    "    Write a few sentence about the {sickness} in {language}'''\n",
    "\n",
    "prompt = PromptTemplate(\n",
    "    input_variables=['sickness', 'language'],\n",
    "    template=template\n",
    ")\n",
    "print(prompt)"
   ]
  },
  {
   "cell_type": "code",
   "execution_count": 34,
   "metadata": {},
   "outputs": [
    {
     "name": "stdout",
     "output_type": "stream",
     "text": [
      "\n",
      "\n",
      "Influenza, or the flu, is a contagious respiratory virus that causes mild to severe illness and can even lead to death. It is spread by contact with an infected person or through the air, such as when an infected person sneezes or coughs. Symptoms of the flu include fever, sore throat, body aches, fatigue, and a dry cough. To prevent the spread of the flu, it is important to practice good hygiene, such as washing your hands often and avoiding close contact with those who are sick. Vaccination is also key in preventing the spread of influenza.\n"
     ]
    }
   ],
   "source": [
    "from langchain.llms import OpenAI\n",
    "llm = OpenAI(model_name='text-davinci-003', temperature=0.7)\n",
    "output = llm(prompt.format(sickness='Influenza', language='English'))\n",
    "print(output)"
   ]
  },
  {
   "cell_type": "markdown",
   "metadata": {},
   "source": [
    "# Simple Chains"
   ]
  },
  {
   "cell_type": "code",
   "execution_count": 42,
   "metadata": {},
   "outputs": [],
   "source": [
    "from langchain.chat_models import ChatOpenAI\n",
    "from langchain import PromptTemplate\n",
    "from langchain.chains import LLMChain\n",
    " \n",
    "llm = ChatOpenAI(model_name='gpt-3.5-turbo', temperature=0.5)\n",
    "template = '''You are an experienced physicist.\n",
    "Write in {number_of_sentences} sentences about the following {concept} in {language}.'''\n",
    " \n",
    "prompt = PromptTemplate(\n",
    "    input_variables=['number_of_sentences', 'concept', 'language'],\n",
    "    template=template\n",
    ")\n",
    " \n",
    "chain = LLMChain(llm=llm, prompt=prompt)\n",
    "output = chain.run({'concept': 'General Relativity', 'language': 'English', 'number_of_sentences': '3'})"
   ]
  },
  {
   "cell_type": "code",
   "execution_count": 43,
   "metadata": {},
   "outputs": [
    {
     "name": "stdout",
     "output_type": "stream",
     "text": [
      "General relativity is a theory of gravity proposed by Albert Einstein in 1915. It describes gravity as the curvature of spacetime caused by the presence of matter and energy. This theory has been successful in explaining various phenomena, such as the bending of light around massive objects and the existence of black holes.\n"
     ]
    }
   ],
   "source": [
    "print(output)"
   ]
  },
  {
   "cell_type": "markdown",
   "metadata": {},
   "source": [
    "# Sequential Chain"
   ]
  },
  {
   "cell_type": "code",
   "execution_count": 45,
   "metadata": {},
   "outputs": [
    {
     "name": "stdout",
     "output_type": "stream",
     "text": [
      "\n",
      "\n",
      "\u001b[1m> Entering new SimpleSequentialChain chain...\u001b[0m\n",
      "\u001b[36;1m\u001b[1;3m\n",
      "\n",
      "def bubbleSort(arr):\n",
      "    for i in range(len(arr)-1):\n",
      "        for j in range(len(arr)-1-i):\n",
      "            if arr[j] > arr[j+1]:\n",
      "                arr[j],arr[j+1] = arr[j+1],arr[j]\n",
      "    return arr\u001b[0m\n",
      "\u001b[33;1m\u001b[1;3mThe given function is a implementation of the bubble sort algorithm.\n",
      "The function takes an input array 'arr' and sorts it in ascending order.\n",
      "It achieves this by iterating through the input array multiple times, swapping adjacent elements if they are in the wrong order.\n",
      "Here is a more detailed description of the algorithm:\n",
      "\n",
      "1. The function starts by running a loop from i=0 to len(arr)-2 (excluding the last element).\n",
      "   This is because after each iteration the largest element gets bubbled up to the end of the array.\n",
      "   Therefore, after len(arr)-1 iterations, the array will be completely sorted.\n",
      "\n",
      "2. Within the outer loop, there is an inner loop which iterates from j=0 to len(arr)-1-i.\n",
      "   The upper bound of the inner loop decreases at each iteration of the outer loop, as the largest values will be moved to the end.\n",
      "\n",
      "3. Inside the inner loop, there is an if statement that compares arr[j] with arr[j+1].\n",
      "   If arr[j] is greater than arr[j+1], it means they are in the wrong order and need to be swapped.\n",
      "   The swap is done using a tuple unpacking technique where the values are exchanged using a temporary variable.\n",
      "\n",
      "4. After the inner loop completes for each iteration of the outer loop, the largest element is placed at the end of the array.\n",
      "   This is why after len(arr)-1 iterations, the array will be completely sorted and the outer loop finishes.\n",
      "\n",
      "5. Finally, the sorted array is returned as the output of the function.\n",
      "\n",
      "In summary, the bubbleSort function sorts the given array in-place using the bubble sort algorithm, which repeatedly compares adjacent elements and swaps them if they are in the wrong order. The largest elements are continuously moved towards the end of the array until the entire array is sorted in ascending order.\u001b[0m\n",
      "\n",
      "\u001b[1m> Finished chain.\u001b[0m\n"
     ]
    }
   ],
   "source": [
    "from langchain.chat_models import ChatOpenAI\n",
    "from langchain.llms import OpenAI\n",
    "from langchain import PromptTemplate\n",
    "from langchain.chains import LLMChain, SimpleSequentialChain\n",
    " \n",
    "llm1 = OpenAI(model_name='text-davinci-003', temperature=0.7, max_tokens=1024)\n",
    "prompt1 = PromptTemplate(\n",
    "    input_variables=['concept'],\n",
    "    template='''You are an experienced scientist and Python programmer.\n",
    "    Write a function that implements the concept of {concept}.'''\n",
    ")\n",
    "chain1 = LLMChain(llm=llm1, prompt=prompt1)\n",
    " \n",
    " \n",
    "llm2 = ChatOpenAI(model_name='gpt-3.5-turbo', temperature=1.2)\n",
    "prompt2 = PromptTemplate(\n",
    "    input_variables=['function'],\n",
    "    template='Given the Python function {function}, describe it as detailed as possible.'\n",
    ")\n",
    "chain2 = LLMChain(llm=llm2, prompt=prompt2)\n",
    " \n",
    "overall_chain = SimpleSequentialChain(chains=[chain1, chain2], verbose=True)\n",
    "output = overall_chain.run('bubble sort')\n",
    " "
   ]
  },
  {
   "cell_type": "code",
   "execution_count": 50,
   "metadata": {},
   "outputs": [
    {
     "name": "stdout",
     "output_type": "stream",
     "text": [
      "\n",
      "\n",
      "\u001b[1m> Entering new SimpleSequentialChain chain...\u001b[0m\n",
      "\u001b[36;1m\u001b[1;3m\n",
      "\n",
      "#include <iostream>\n",
      "#include <vector>\n",
      "\n",
      "using namespace std;\n",
      "\n",
      "// Function to partition the array on the basis of pivot element\n",
      "int Partition(vector<int>& arr, int low, int high)\n",
      "{\n",
      "    int pivot = arr[high]; // pivot element\n",
      "    int i = (low - 1); // index of the smaller element\n",
      "\n",
      "    for (int j = low; j <= high - 1; j++)\n",
      "    {\n",
      "        // If current element is smaller than or equal to pivot\n",
      "        if (arr[j] <= pivot)\n",
      "        {\n",
      "            i++; // increment index of smaller element\n",
      "            swap(arr[i], arr[j]);\n",
      "        }\n",
      "    }\n",
      "    swap(arr[i + 1], arr[high]);\n",
      "    return (i + 1);\n",
      "}\n",
      "\n",
      "// Function to sort an array using Quick Sort\n",
      "void QuickSort(vector<int>& arr, int low, int high)\n",
      "{\n",
      "    if (low < high)\n",
      "    {\n",
      "        // Partition the array and get the pivot element\n",
      "        int pivot = Partition(arr, low, high);\n",
      "\n",
      "        // Separately sort elements before\n",
      "        // partition and after partition\n",
      "        QuickSort(arr, low, pivot - 1);\n",
      "        QuickSort(arr, pivot + 1, high);\n",
      "    }\n",
      "}\n",
      "\n",
      "// Function to print the array\n",
      "void PrintArray(const vector<int>& arr)\n",
      "{\n",
      "    for (const auto& element : arr)\n",
      "    {\n",
      "        cout << element << \" \";\n",
      "    }\n",
      "    cout << endl;\n",
      "}\n",
      "\n",
      "// Driver code\n",
      "int main()\n",
      "{\n",
      "    vector<int> arr = {3, 5, 2, 6, 8, 1, 4};\n",
      "\n",
      "    cout << \"Array before sorting: \" << endl;\n",
      "    PrintArray(arr);\n",
      "\n",
      "    QuickSort(arr, 0, arr.size() - 1);\n",
      "\n",
      "    cout << \"Array after sorting: \" << endl;\n",
      "    PrintArray(arr);\n",
      "\n",
      "    return 0;\n",
      "}\u001b[0m\n",
      "\u001b[33;1m\u001b[1;3mThis C++ code implements the quicksort algorithm to sort a vector of integers. The code first includes the necessary header files for input/output stream and vector. \n",
      "\n",
      "The main logic of the quicksort algorithm is implemented in two functions - `Partition` and `QuickSort`. \n",
      "\n",
      "The `Partition` function takes a vector `arr`, and two integers `low` and `high`, representing the lower and upper indices of the subarray that needs to be partitioned. The function selects the pivot element, which is chosen as the element at the `high` index of the subarray. The function then iterates over the array from index `low` to `high - 1` and moves all the elements smaller than or equal to the pivot to the left side of the pivot. This is done using two nested loops. The outer loop, with iterator variable `j`, iterates through the array, while the inner loop, with iterator variable `i`, keeps track of the index of the smaller element. Whenever an element smaller than or equal to the pivot is found, the `i` index is incremented, and the current element is swapped with the element at index `i`. In the end, the pivot element is swapped with the element at index `i+1`. The function then returns the index `i+1`.\n",
      "\n",
      "The `QuickSort` function is a recursive function that takes the same parameters as the `Partition` function - a vector `arr`, and the lower and upper indices (`low` and `high`). This function first checks if the `low` index is strictly less than the `high` index, indicating that there are two or more elements in the subarray. If so, it calls the `Partition` function to partition the subarray around a pivot element. It then recursively calls itself to sort the subarrays before and after the pivot element by passing the appropriate indices. \n",
      "\n",
      "The code also includes a helper function `PrintArray`, which takes a constant reference to a vector `arr` and prints all the elements in the vector, separated by spaces. This function is used to display the array before and after sorting.\n",
      "\n",
      "In the `main` function, an unsorted vector named `arr` is instantiated with 7 elements. The array is then displayed before sorting using the `PrintArray` function. The `QuickSort` function is called to sort the array, passing the indices 0 and `arr.size() - 1`. Finally, the sorted array is displayed using the `PrintArray` function.\n",
      "\n",
      "Overall, this code demonstrates the implementation of the quicksort algorithm using recursive function calls to sort a vector of integers.\u001b[0m\n",
      "\n",
      "\u001b[1m> Finished chain.\u001b[0m\n"
     ]
    }
   ],
   "source": [
    "from langchain.chat_models import ChatOpenAI\n",
    "from langchain.llms import OpenAI\n",
    "from langchain import PromptTemplate\n",
    "from langchain.chains import LLMChain, SimpleSequentialChain\n",
    " \n",
    "llm1 = OpenAI(model_name='text-davinci-003', temperature=0.7, max_tokens=1024)\n",
    "prompt1 = PromptTemplate(\n",
    "    input_variables=['concept'],\n",
    "    template='''You are an experienced scientist and C++ programmer.\n",
    "    Write a function that implements the concept of {concept}.'''\n",
    ")\n",
    "chain1 = LLMChain(llm=llm1, prompt=prompt1)\n",
    " \n",
    " \n",
    "llm2 = ChatOpenAI(model_name='gpt-3.5-turbo', temperature=1.2)\n",
    "prompt2 = PromptTemplate(\n",
    "    input_variables=['function'],\n",
    "    template='Given the C++ function {function}, describe it as detailed as possible.'\n",
    ")\n",
    "chain2 = LLMChain(llm=llm2, prompt=prompt2)\n",
    " \n",
    "overall_chain = SimpleSequentialChain(chains=[chain1, chain2], verbose=True)\n",
    "output = overall_chain.run('quick sort')\n",
    " "
   ]
  },
  {
   "cell_type": "markdown",
   "metadata": {},
   "source": [
    "# LLM Model Wrappers: GPT-3"
   ]
  },
  {
   "cell_type": "code",
   "execution_count": 51,
   "metadata": {},
   "outputs": [
    {
     "name": "stdout",
     "output_type": "stream",
     "text": [
      "Note: you may need to restart the kernel to use updated packages.\n"
     ]
    }
   ],
   "source": [
    "pip install langchain_experimental -q"
   ]
  },
  {
   "cell_type": "code",
   "execution_count": 1,
   "metadata": {},
   "outputs": [],
   "source": [
    "from langchain_experimental.agents.agent_toolkits import create_python_agent\n",
    "from langchain_experimental.tools.python.tool import PythonREPLTool\n",
    "from langchain.llms import OpenAI"
   ]
  },
  {
   "cell_type": "code",
   "execution_count": 4,
   "metadata": {},
   "outputs": [
    {
     "name": "stdout",
     "output_type": "stream",
     "text": [
      "\n",
      "\n",
      "\u001b[1m> Entering new AgentExecutor chain...\u001b[0m\n"
     ]
    },
    {
     "name": "stderr",
     "output_type": "stream",
     "text": [
      "Python REPL can execute arbitrary code. Use with caution.\n"
     ]
    },
    {
     "name": "stdout",
     "output_type": "stream",
     "text": [
      "\u001b[32;1m\u001b[1;3m I need to use the Python REPL to calculate this\n",
      "Action: Python_REPL\n",
      "Action Input: print(5.1 ** 7.3)\u001b[0m\n",
      "Observation: \u001b[36;1m\u001b[1;3m146306.05007233328\n",
      "\u001b[0m\n",
      "Thought:\u001b[32;1m\u001b[1;3m I now know the final answer\n",
      "Final Answer: 146306.05007233328\u001b[0m\n",
      "\n",
      "\u001b[1m> Finished chain.\u001b[0m\n"
     ]
    },
    {
     "data": {
      "text/plain": [
       "'146306.05007233328'"
      ]
     },
     "execution_count": 4,
     "metadata": {},
     "output_type": "execute_result"
    }
   ],
   "source": [
    "llm = OpenAI(temperature=0)\n",
    "agent_executor = create_python_agent(\n",
    "    llm=llm,\n",
    "    tool=PythonREPLTool(),\n",
    "    verbose=True\n",
    ")\n",
    "# agent_executor.run('Calculate the square root of the factorial of 20 \\\n",
    "# and display it with 4 decimal points')\n",
    " \n",
    "agent_executor.run('what is the answer to 5.1 ** 7.3?')"
   ]
  }
 ],
 "metadata": {
  "kernelspec": {
   "display_name": "Python 3",
   "language": "python",
   "name": "python3"
  },
  "language_info": {
   "codemirror_mode": {
    "name": "ipython",
    "version": 3
   },
   "file_extension": ".py",
   "mimetype": "text/x-python",
   "name": "python",
   "nbconvert_exporter": "python",
   "pygments_lexer": "ipython3",
   "version": "3.9.6"
  }
 },
 "nbformat": 4,
 "nbformat_minor": 2
}
